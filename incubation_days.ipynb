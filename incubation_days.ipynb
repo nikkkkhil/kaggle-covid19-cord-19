{
 "cells": [
  {
   "cell_type": "code",
   "execution_count": 143,
   "metadata": {},
   "outputs": [],
   "source": [
    "import os\n",
    "import json\n",
    "import pandas as pd\n",
    "from tqdm import tqdm \n",
    "import re\n",
    "import matplotlib.pyplot as plt\n",
    "from matplotlib import style \n",
    "import numpy as np\n",
    "style.use('ggplot')"
   ]
  },
  {
   "cell_type": "code",
   "execution_count": 155,
   "metadata": {},
   "outputs": [],
   "source": [
    "dirs = ['biorxiv_medrxiv/biorxiv_medrxiv','comm_use_subset/comm_use_subset','noncomm_use_subset/noncomm_use_subset','pmc_custom_license/pmc_custom_license']"
   ]
  },
  {
   "cell_type": "code",
   "execution_count": 156,
   "metadata": {},
   "outputs": [
    {
     "name": "stderr",
     "output_type": "stream",
     "text": [
      "  5%|████▎                                                                           | 43/803 [00:00<00:01, 425.75it/s]"
     ]
    },
    {
     "name": "stdout",
     "output_type": "stream",
     "text": [
      "biorxiv_medrxiv/biorxiv_medrxiv\n"
     ]
    },
    {
     "name": "stderr",
     "output_type": "stream",
     "text": [
      "100%|███████████████████████████████████████████████████████████████████████████████| 803/803 [00:01<00:00, 419.32it/s]\n",
      "  0%|                                                                                 | 5/9000 [00:00<03:32, 42.37it/s]"
     ]
    },
    {
     "name": "stdout",
     "output_type": "stream",
     "text": [
      "comm_use_subset/comm_use_subset\n"
     ]
    },
    {
     "name": "stderr",
     "output_type": "stream",
     "text": [
      "100%|██████████████████████████████████████████████████████████████████████████████| 9000/9000 [03:05<00:00, 48.54it/s]\n",
      "  0%|▏                                                                                | 4/1973 [00:00<00:51, 38.10it/s]"
     ]
    },
    {
     "name": "stdout",
     "output_type": "stream",
     "text": [
      "noncomm_use_subset/noncomm_use_subset\n"
     ]
    },
    {
     "name": "stderr",
     "output_type": "stream",
     "text": [
      "100%|██████████████████████████████████████████████████████████████████████████████| 1973/1973 [00:41<00:00, 48.02it/s]\n",
      "  0%|▎                                                                                | 6/1426 [00:00<00:25, 55.56it/s]"
     ]
    },
    {
     "name": "stdout",
     "output_type": "stream",
     "text": [
      "pmc_custom_license/pmc_custom_license\n"
     ]
    },
    {
     "name": "stderr",
     "output_type": "stream",
     "text": [
      "100%|██████████████████████████████████████████████████████████████████████████████| 1426/1426 [00:25<00:00, 55.00it/s]\n"
     ]
    }
   ],
   "source": [
    "docs = []\n",
    "for  d in dirs:\n",
    "    print(d)\n",
    "    for file in tqdm(os.listdir(d)):\n",
    "#         print(file)\n",
    "        file_path = d+'/'+file\n",
    "        j = json.load(open(file_path,\"rb\"))\n",
    "#         print(j)\n",
    "        \n",
    "        title = j['metadata']['title']\n",
    "        try:\n",
    "            abstract = j['abstract'][0]\n",
    "        except:\n",
    "            abstract = \"\"\n",
    "        full_text = \"\"\n",
    "        for text in j['body_text']:\n",
    "#             print(text['text'])\n",
    "            full_text += text['text']+'\\n\\n'\n",
    "#         print(full_text)\n",
    "        docs.append([title,abstract,full_text])\n",
    "#         break\n",
    "#         for key in j:\n",
    "#             print(key)\n",
    "#         print(j['metadata'])\n",
    "#         for k in j['metadata']:\n",
    "#             print(k)\n",
    "#         break"
   ]
  },
  {
   "cell_type": "code",
   "execution_count": 157,
   "metadata": {},
   "outputs": [],
   "source": [
    "df = pd.DataFrame(docs, columns=['title','abstract','full_text'])"
   ]
  },
  {
   "cell_type": "code",
   "execution_count": 158,
   "metadata": {},
   "outputs": [
    {
     "name": "stdout",
     "output_type": "stream",
     "text": [
      "                                               title  \\\n",
      "0  The RNA pseudoknots in foot-and-mouth disease ...   \n",
      "1  Healthcare-resource-adjusted vulnerabilities t...   \n",
      "2  Real-time, MinION-based, amplicon sequencing f...   \n",
      "3  Assessing spread risk of Wuhan novel coronavir...   \n",
      "4  TWIRLS, an automated topic-wise inference meth...   \n",
      "\n",
      "                                            abstract  \\\n",
      "0  {'text': 'word count: 194 22 Text word count: ...   \n",
      "1                                                      \n",
      "2  {'text': 'Infectious bronchitis (IB) causes si...   \n",
      "3  {'text': 'Background: A novel coronavirus (201...   \n",
      "4  {'text': 'Faced with the current large-scale p...   \n",
      "\n",
      "                                           full_text  \n",
      "0  VP3, and VP0 (which is further processed to VP...  \n",
      "1  The 2019-nCoV epidemic has spread across China...  \n",
      "2  Infectious bronchitis (IB), which is caused by...  \n",
      "3  In December 2019, a cluster of patients with p...  \n",
      "4  The sudden outbreak of the new coronavirus (SA...  \n"
     ]
    }
   ],
   "source": [
    "print(df.head())"
   ]
  },
  {
   "cell_type": "code",
   "execution_count": 159,
   "metadata": {},
   "outputs": [
    {
     "name": "stdout",
     "output_type": "stream",
     "text": [
      "                                                title  \\\n",
      "1   Healthcare-resource-adjusted vulnerabilities t...   \n",
      "7   Carbon Nanocarriers Deliver siRNA to Intact Pl...   \n",
      "9   A hidden gene in astroviruses encodes a cell-p...   \n",
      "10  Live-cell single RNA imaging reveals bursts of...   \n",
      "12  Self-assembly of the RZZ complex into filament...   \n",
      "\n",
      "                                             abstract  \\\n",
      "1                                                       \n",
      "7   {'text': 'Post-transcriptional gene silencing ...   \n",
      "9   {'text': 'Human astroviruses are small nonenve...   \n",
      "10  {'text': 'Ribosomal frameshifting during the t...   \n",
      "12                                                      \n",
      "\n",
      "                                            full_text  \n",
      "1   The 2019-nCoV epidemic has spread across China...  \n",
      "7   siRNA without relying on plant transformation,...  \n",
      "9   Humans astroviruses (HAstVs) belong to genus M...  \n",
      "10  Frameshifting is a fundamental biological proc...  \n",
      "12  To examine the role of the kinetochore dynein ...  \n"
     ]
    }
   ],
   "source": [
    "incubation = df[df['full_text'].str.contains('incubation')]\n",
    "print(incubation.head())"
   ]
  },
  {
   "cell_type": "code",
   "execution_count": 160,
   "metadata": {},
   "outputs": [],
   "source": [
    "texts = incubation['full_text'].values"
   ]
  },
  {
   "cell_type": "code",
   "execution_count": 161,
   "metadata": {},
   "outputs": [],
   "source": [
    "incubation_times = []"
   ]
  },
  {
   "cell_type": "code",
   "execution_count": 163,
   "metadata": {},
   "outputs": [
    {
     "name": "stdout",
     "output_type": "stream",
     "text": [
      "[3.0, 28.0, 14.0, 14.0, 4.0, 1.0, 5.0, 1.0, 5.0, 1.0, 14.0, 8.0, 1.0, 1.0, 7.0, 5.0, 42.0, 2.0, 5.0, 6.0, 5.0, 5.0, 5.0, 1.0, 55.0, 9.0, 27.0, 55.0, 4.0, 2.0, 6.0, 8.0, 24.0, 7.0, 14.0, 2.0, 2.0, 9.0, 22.0, 22.0, 22.0, 4.0, 42.0, 3.0, 4.0, 7.0, 2.0, 10.0, 14.0, 6.0, 4.0, 0.0, 0.0, 14.0, 24.0, 9.0, 9.0, 14.0, 3.0, 5.0, 5.0, 6.0, 2.0, 6.0, 18.0, 3.0, 7.0, 5.0, 7.0, 5.0, 0.0, 7.0, 7.0, 0.0, 14.0, 8.0, 2.0, 8.0, 15.0, 5.0, 17.0, 7.0, 24.0, 14.0, 0.0, 89.0, 13.0, 2.0, 5.0, 6.0, 5.0, 14.0, 14.0, 1.0, 8.0, 8.0, 21.0, 0.0, 3.0, 3.0, 3.0, 4.0, 5.0, 24.0, 38.0, 9.0, 20.0, 20.0, 5.0, 14.0, 3.0, 1.0, 9.0, 1.0, 9.0, 7.0, 5.0, 5.0, 5.0, 5.0, 3.0, 3.0, 3.0, 10.0, 2.0, 2.0, 7.0, 2.0, 2.0, 2.0, 7.0, 4.0, 11.0, 11.0, 21.0, 2.0, 2.0, 0.0, 3.0, 2.0, 4.0, 4.0, 7.0, 10.0, 3.0, 5.0, 4.0, 14.0, 7.0, 4.0, 3.0, 8.0, 4.0, 50.0, 3.0, 2.0, 6.0, 2.0, 4.0, 3.0, 1.0, 3.0, 42.0, 21.0, 42.0, 12.0, 14.0, 6.0, 3.0, 3.0, 4.0, 5.0, 7.0, 6.0, 6.0, 5.0, 14.0, 5.0, 14.0, 5.0, 14.0, 14.0, 15.0, 94.0, 56.0, 56.0, 3.0, 8.0, 4.0, 2.0, 9.0, 16.0, 6.0, 5.0, 3.0, 3.0, 3.0, 15.0, 3.0, 1.0, 28.0, 3.0, 3.0, 5.0, 4.0, 5.0, 16.0, 5.0, 14.0, 6.0, 4.0, 4.0, 5.0, 2.0, 3.0, 7.0, 1.0, 8.0, 14.0, 10.0, 7.0, 3.0, 7.0, 7.0, 3.0, 2.0, 13.0, 14.0, 5.0, 2.0, 5.0, 7.0, 4.0, 19.0, 5.0, 6.0, 7.0, 4.0, 3.0, 6.0, 4.0, 2.0, 4.0, 21.0, 3.0, 7.0, 5.0, 12.0, 2.0, 3.0, 21.0, 21.0, 3.0, 3.0, 6.0, 14.0, 5.0, 4.0, 5.0, 9.0, 15.0, 4.0, 7.0, 2.0, 10.0, 3.0, 64.0, 4.0, 1.0, 1.0, 14.0, 5.0, 3.0, 15.0, 3.0, 2.0, 14.0, 14.0, 5.0, 7.0, 14.0, 5.0, 10.0, 21.0, 7.0, 13.0, 15.0, 10.0, 4.0, 14.0, 18.0, 7.0, 4.0, 5.0, 2.0, 5.0, 3.0, 21.0, 5.0, 4.0, 3.0, 5.0, 5.0, 4.0, 4.0, 90.0, 90.0, 5.0, 21.0, 4.0, 6.0, 3.0, 5.0, 4.0, 14.0, 14.0, 7.0, 20.0, 3.0, 2.0, 67.0, 5.0, 6.0, 6.0, 3.0, 14.0, 7.0, 3.0, 2.0, 3.0, 21.0, 5.0, 3.0, 4.0, 4.0, 5.0, 5.0, 2.0, 5.0, 4.0, 16.0, 3.0, 3.0, 3.0, 3.0, 3.0, 10.0, 7.0, 3.0, 21.0, 10.0, 5.0, 7.0, 6.0, 4.0, 4.0, 12.0, 13.0, 3.0, 5.0, 42.0, 6.0, 2.0, 7.0, 5.0, 10.0, 3.0, 3.0, 10.0, 25.0, 5.0, 14.0, 14.0, 14.0, 21.0, 1.0, 5.0, 7.0, 21.0, 10.0, 6.0, 5.0, 3.0, 3.0, 3.0, 3.0, 21.0, 12.0, 21.0, 5.0, 5.0, 14.0, 4.0, 14.0, 2.0, 5.0, 15.0, 10.0, 12.0, 4.0, 16.0, 4.0, 5.0, 5.0, 2.0, 9.0, 6.0, 5.0, 12.0, 5.0, 3.0, 3.0, 3.0, 5.0, 5.0, 6.0, 14.0, 7.0, 0.0, 2.0, 10.0, 7.0, 6.0, 6.0, 3.0, 4.0, 3.0, 7.0, 21.0, 3.0, 15.0, 5.0, 4.0, 5.0, 5.0, 5.0, 7.0, 10.0, 5.0, 7.0, 3.0, 4.0, 16.0, 7.0, 28.0, 10.0, 4.0, 3.0, 4.0, 6.0, 21.0, 4.0, 3.0, 7.0, 5.0, 5.0, 6.0, 10.0, 9.0, 6.0, 6.0, 3.0, 21.0, 12.0, 20.0, 10.0, 15.0, 1.0, 14.0, 8.0, 3.0, 2.0, 2.0, 20.0, 5.0, 4.0, 4.0, 2.0, 5.0, 8.0, 6.0, 4.0, 3.0, 10.0, 6.0, 5.0, 14.0, 40.0, 10.0, 3.0, 12.0, 5.0, 3.0, 14.0, 8.0, 4.0, 21.0, 6.0, 4.0, 15.0, 3.0, 6.0, 14.0, 10.0, 9.0, 2.0, 4.0, 6.0, 2.0, 9.0, 3.0, 3.0, 7.0, 10.0, 25.0, 5.0, 3.0, 3.0, 3.0, 7.0, 2.0, 42.0, 5.0, 7.0, 7.0, 20.0, 3.0, 4.0, 1.0, 1.0, 14.0, 5.0, 5.0, 5.0, 8.0, 7.0, 10.0, 2.0, 8.0, 5.0, 3.0, 18.0, 22.0, 21.0, 6.0, 7.0, 8.0, 6.0, 2.0, 2.0, 2.0, 2.0, 14.0, 3.0, 4.0, 7.0, 5.0, 10.0, 3.0, 5.0, 7.0, 15.0, 3.0, 8.0, 8.0, 12.0, 12.0, 6.0, 6.0, 6.0, 56.0, 4.0, 10.0, 4.0, 10.0, 2.0, 2.0, 2.0, 2.0, 21.0, 15.0, 6.0, 3.0, 10.0, 14.0, 4.0, 3.0, 14.0, 7.0, 5.0, 6.0, 10.0, 2.0, 3.0, 5.0, 5.0, 28.0, 70.0, 70.0, 7.0, 7.0, 14.0, 5.0, 14.0, 8.0, 49.0, 4.0, 6.0, 13.0, 14.0, 4.0, 6.0, 5.0, 5.0, 2.0, 3.0, 6.0, 5.0, 10.0, 7.0, 21.0, 3.0, 14.0, 5.0, 14.0, 7.0, 12.0, 15.0, 21.0, 4.0, 2.0, 5.0, 5.0, 7.0, 7.0, 5.0, 1.0, 2.0, 4.0, 14.0, 5.0, 2.0, 21.0, 3.0, 6.0, 5.0, 0.0, 21.0, 21.0, 7.0, 6.0, 10.0, 3.0, 8.0, 15.0, 12.0, 2.0, 3.0, 2.0, 4.0, 4.0, 7.0, 10.0, 10.0, 2.0, 16.0, 16.0, 6.0, 5.0, 14.0, 14.0, 7.0, 5.0, 6.0, 10.0, 29.0, 29.0, 14.0, 10.0, 16.0, 12.0, 14.0, 14.0, 4.0, 14.0, 5.0, 12.0, 3.0, 6.0, 2.0, 9.0, 8.0, 6.0, 14.0, 1.0, 15.0, 20.0, 30.0, 14.0, 14.0, 12.0, 5.0, 8.0, 14.0, 14.0, 4.0, 2.0, 12.0, 28.0, 22.0, 28.0, 2.0, 2.0, 1.0, 2.0, 2.0, 4.0, 4.0, 40.0, 3.0, 2.0, 5.0, 3.0, 2.0, 4.0, 10.0, 15.0, 7.0, 16.0, 10.0, 7.0, 10.0, 7.0, 2.0, 9.0, 10.0, 6.0, 2.0, 3.0, 3.0, 14.0, 8.0, 7.0, 10.0, 4.0, 3.0, 28.0, 14.0, 14.0, 4.0, 1.0, 5.0, 1.0, 5.0, 1.0, 14.0, 8.0, 1.0, 1.0, 7.0, 5.0, 42.0, 2.0, 5.0, 6.0, 5.0, 5.0, 5.0, 1.0, 55.0, 9.0, 27.0, 55.0, 4.0, 2.0, 6.0, 8.0, 24.0, 7.0, 14.0, 2.0, 2.0, 9.0, 22.0, 22.0, 22.0, 4.0, 42.0, 3.0, 4.0, 7.0, 2.0, 10.0, 14.0, 6.0, 4.0, 0.0, 0.0, 14.0, 24.0, 9.0, 9.0, 14.0, 3.0, 5.0, 5.0, 6.0, 2.0, 6.0, 18.0, 3.0, 7.0, 5.0, 7.0, 5.0, 0.0, 7.0, 7.0, 0.0, 14.0, 8.0, 2.0, 8.0, 15.0, 5.0, 17.0, 7.0, 24.0, 14.0, 0.0, 89.0, 13.0, 2.0, 5.0, 6.0, 5.0, 14.0, 14.0, 1.0, 8.0, 8.0, 21.0, 0.0, 3.0, 3.0, 3.0, 4.0, 5.0, 24.0, 38.0, 9.0, 20.0, 20.0, 5.0, 14.0, 3.0, 1.0, 9.0, 1.0, 9.0, 7.0, 5.0, 5.0, 5.0, 5.0, 3.0, 3.0, 3.0, 10.0, 2.0, 2.0, 7.0, 2.0, 2.0, 2.0, 7.0, 4.0, 11.0, 11.0, 21.0, 2.0, 2.0, 0.0, 3.0, 2.0, 4.0, 4.0, 7.0, 10.0, 3.0, 5.0, 4.0, 14.0, 7.0, 4.0, 3.0, 8.0, 4.0, 50.0, 3.0, 2.0, 6.0, 2.0, 4.0, 3.0, 1.0, 3.0, 42.0, 21.0, 42.0, 12.0, 14.0, 6.0, 3.0, 3.0, 4.0, 5.0, 7.0, 6.0, 6.0, 5.0, 14.0, 5.0, 14.0, 5.0, 14.0, 14.0, 15.0, 94.0, 56.0, 56.0, 3.0, 8.0, 4.0, 2.0, 9.0, 16.0, 6.0, 5.0, 3.0, 3.0, 3.0, 15.0, 3.0, 1.0, 28.0, 3.0, 3.0, 5.0, 4.0, 5.0, 16.0, 5.0, 14.0, 6.0, 4.0, 4.0, 5.0, 2.0, 3.0, 7.0, 1.0, 8.0, 14.0, 10.0, 7.0, 3.0, 7.0, 7.0, 3.0, 2.0, 13.0, 14.0, 5.0, 2.0, 5.0, 7.0, 4.0, 19.0, 5.0, 6.0, 7.0, 4.0, 3.0, 6.0, 4.0, 2.0, 4.0, 21.0, 3.0, 7.0, 5.0, 12.0, 2.0, 3.0, 21.0, 21.0, 3.0, 3.0, 6.0, 14.0, 5.0, 4.0, 5.0, 9.0, 15.0, 4.0, 7.0, 2.0, 10.0, 3.0, 64.0, 4.0, 1.0, 1.0, 14.0, 5.0, 3.0, 15.0, 3.0, 2.0, 14.0, 14.0, 5.0, 7.0, 14.0, 5.0, 10.0, 21.0, 7.0, 13.0, 15.0, 10.0, 4.0, 14.0, 18.0, 7.0, 4.0, 5.0, 2.0, 5.0, 3.0, 21.0, 5.0, 4.0, 3.0, 5.0, 5.0, 4.0, 4.0, 90.0, 90.0, 5.0, 21.0, 4.0, 6.0, 3.0, 5.0, 4.0, 14.0, 14.0, 7.0, 20.0, 3.0, 2.0, 67.0, 5.0, 6.0, 6.0, 3.0, 14.0, 7.0, 3.0, 2.0, 3.0, 21.0, 5.0, 3.0, 4.0, 4.0, 5.0, 5.0, 2.0, 5.0, 4.0, 16.0, 3.0, 3.0, 3.0, 3.0, 3.0, 10.0, 7.0, 3.0, 21.0, 10.0, 5.0, 7.0, 6.0, 4.0, 4.0, 12.0, 13.0, 3.0, 5.0, 42.0, 6.0, 2.0, 7.0, 5.0, 10.0, 3.0, 3.0, 10.0, 25.0, 5.0, 14.0, 14.0, 14.0, 21.0, 1.0, 5.0, 7.0, 21.0, 10.0, 6.0, 5.0, 3.0, 3.0, 3.0, 3.0, 21.0, 12.0, 21.0, 5.0, 5.0, 14.0, 4.0, 14.0, 2.0, 5.0, 15.0, 10.0, 12.0, 4.0, 16.0, 4.0, 5.0, 5.0, 2.0, 9.0, 6.0, 5.0, 12.0, 5.0, 3.0, 3.0, 3.0, 5.0, 5.0, 6.0, 14.0, 7.0, 0.0, 2.0, 10.0, 7.0, 6.0, 6.0, 3.0, 4.0, 3.0, 7.0, 21.0, 3.0, 15.0, 5.0, 4.0, 5.0, 5.0, 5.0, 7.0, 10.0, 5.0, 7.0, 3.0, 4.0, 16.0, 7.0, 28.0, 10.0, 4.0, 3.0, 4.0, 6.0, 21.0, 4.0, 3.0, 7.0, 5.0, 5.0, 6.0, 10.0, 9.0, 6.0, 6.0, 3.0, 21.0, 12.0, 20.0, 10.0, 15.0, 1.0, 14.0, 8.0, 3.0, 2.0, 2.0, 20.0, 5.0, 4.0, 4.0, 2.0, 5.0, 8.0, 6.0, 4.0, 3.0, 10.0, 6.0, 5.0, 14.0, 40.0, 10.0, 3.0, 12.0, 5.0, 3.0, 14.0, 8.0, 4.0, 21.0, 6.0, 4.0, 15.0, 3.0, 6.0, 14.0, 10.0, 9.0, 2.0, 4.0, 6.0, 2.0, 9.0, 3.0, 3.0, 7.0, 10.0, 25.0, 5.0, 3.0, 3.0, 3.0, 7.0, 2.0, 42.0, 5.0, 7.0, 7.0, 20.0, 3.0, 4.0, 1.0, 1.0, 14.0, 5.0, 5.0, 5.0, 8.0, 7.0, 10.0, 2.0, 8.0, 5.0, 3.0, 18.0, 22.0, 21.0, 6.0, 7.0, 8.0, 6.0, 2.0, 2.0, 2.0, 2.0, 14.0, 3.0, 4.0, 7.0, 5.0, 10.0, 3.0, 5.0, 7.0, 15.0, 3.0, 8.0, 8.0, 12.0, 12.0, 6.0, 6.0, 6.0, 56.0, 4.0, 10.0, 4.0, 10.0, 2.0, 2.0, 2.0, 2.0, 21.0, 15.0, 6.0, 3.0, 10.0, 14.0, 4.0, 3.0, 14.0, 7.0, 5.0, 6.0, 10.0, 2.0, 3.0, 5.0, 5.0, 28.0, 70.0, 70.0, 7.0, 7.0, 14.0, 5.0, 14.0, 8.0, 49.0, 4.0, 6.0, 13.0, 14.0, 4.0, 6.0, 5.0, 5.0, 2.0, 3.0, 6.0, 5.0, 10.0, 7.0, 21.0, 3.0, 14.0, 5.0, 14.0, 7.0, 12.0, 15.0, 21.0, 4.0, 2.0, 5.0, 5.0, 7.0, 7.0, 5.0, 1.0, 2.0, 4.0, 14.0, 5.0, 2.0, 21.0, 3.0, 6.0, 5.0, 0.0, 21.0, 21.0, 7.0, 6.0, 10.0, 3.0, 8.0, 15.0, 12.0, 2.0, 3.0, 2.0, 4.0, 4.0, 7.0, 10.0, 10.0, 2.0, 16.0, 16.0, 6.0, 5.0, 14.0, 14.0, 7.0, 5.0, 6.0, 10.0, 29.0, 29.0, 14.0, 10.0, 16.0, 12.0, 14.0, 14.0, 4.0, 14.0, 5.0, 12.0, 3.0, 6.0, 2.0, 9.0, 8.0, 6.0, 14.0, 1.0, 15.0, 20.0, 30.0, 14.0, 14.0, 12.0, 5.0, 8.0, 14.0, 14.0, 4.0, 2.0, 12.0, 28.0, 22.0, 28.0, 2.0, 2.0, 1.0, 2.0, 2.0, 4.0, 4.0, 40.0, 3.0, 2.0, 5.0, 3.0, 2.0, 4.0, 10.0, 15.0, 7.0, 16.0, 10.0, 7.0, 10.0, 7.0, 2.0, 9.0, 10.0, 6.0, 2.0, 3.0, 3.0, 14.0, 8.0, 7.0, 10.0, 4.0]\n",
      "1490\n",
      "The mean projected incubation time is 9.245637583892618 days\n"
     ]
    },
    {
     "data": {
      "image/png": "[encoded data removed]",
      "text/plain": [
       "<Figure size 432x288 with 1 Axes>"
      ]
     },
     "metadata": {},
     "output_type": "display_data"
    }
   ],
   "source": [
    "for t in texts:\n",
    "    for sentence in t.split(\". \"):\n",
    "        if 'incubation' in sentence:\n",
    "#             print(sentence)\n",
    "            single_day = re.findall(r'\\d{1,2} day',sentence)\n",
    "            if len(single_day) ==1:\n",
    "#                 print(single_day[0])\n",
    "#                 print(sentence)\n",
    "                num = single_day[0].split(\" \")\n",
    "#                 print(num)\n",
    "#                 break\n",
    "#                 incubation_times.append(float(single_day[0]))\n",
    "#                 print(num[0])\n",
    "                incubation_times.append(float(num[0]))\n",
    "#                 print()\n",
    "#                 print()\n",
    "#     break\n",
    "print(incubation_times)\n",
    "print(len(incubation_times))\n",
    "print(f'The mean projected incubation time is {np.mean(incubation_times)} days')\n",
    "plt.hist(incubation_times, bins =100)\n",
    "plt.ylabel('bin counts')\n",
    "plt.xlabel('incubation_time (days)')\n",
    "plt.show()"
   ]
  },
  {
   "cell_type": "code",
   "execution_count": null,
   "metadata": {},
   "outputs": [],
   "source": []
  }
 ],
 "metadata": {
  "kernelspec": {
   "display_name": "Python 3",
   "language": "python",
   "name": "python3"
  },
  "language_info": {
   "codemirror_mode": {
    "name": "ipython",
    "version": 3
   },
   "file_extension": ".py",
   "mimetype": "text/x-python",
   "name": "python",
   "nbconvert_exporter": "python",
   "pygments_lexer": "ipython3",
   "version": "3.7.4"
  }
 },
 "nbformat": 4,
 "nbformat_minor": 4
}
